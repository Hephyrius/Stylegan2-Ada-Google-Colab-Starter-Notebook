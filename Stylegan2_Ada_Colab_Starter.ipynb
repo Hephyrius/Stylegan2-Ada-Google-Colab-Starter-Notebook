{
  "nbformat": 4,
  "nbformat_minor": 0,
  "metadata": {
    "colab": {
      "name": "Stylegan2-Ada-Colab-Starter",
      "provenance": [],
      "collapsed_sections": [],
      "machine_shape": "hm",
      "include_colab_link": true
    },
    "kernelspec": {
      "name": "python3",
      "display_name": "Python 3"
    },
    "accelerator": "GPU"
  },
  "cells": [
    {
      "cell_type": "markdown",
      "metadata": {
        "id": "view-in-github",
        "colab_type": "text"
      },
      "source": [
        "<a href=\"https://colab.research.google.com/github/Hephyrius/Stylegan2-Ada-Google-Colab-Starter-Notebook/blob/main/Stylegan2_Ada_Colab_Starter.ipynb\" target=\"_parent\"><img src=\"https://colab.research.google.com/assets/colab-badge.svg\" alt=\"Open In Colab\"/></a>"
      ]
    },
    {
      "cell_type": "markdown",
      "metadata": {
        "id": "2f3x92zKLlyE"
      },
      "source": [
        "Mount your drive! This is for two things\n",
        "\n",
        "1) Saving results and checkpoints for later reuse\n",
        "2) loading your own custom datasets"
      ]
    },
    {
      "cell_type": "code",
      "metadata": {
        "id": "q8VnyjDhiBQY"
      },
      "source": [
        "from google.colab import drive\n",
        "drive.mount('/content/drive')"
      ],
      "execution_count": null,
      "outputs": []
    },
    {
      "cell_type": "markdown",
      "metadata": {
        "id": "QTsXnA7vLxK-"
      },
      "source": [
        "Extract your own custom data from google drive and store it in the folder \"my_data\". "
      ]
    },
    {
      "cell_type": "code",
      "metadata": {
        "id": "i-Etf334QxqM"
      },
      "source": [
        "import zipfile\n",
        "path = \"/content/drive/My Drive/path/to/zip/\"\n",
        "dataset = \"my_data.zip\"\n",
        "local_path = \"my_data/\"\n",
        "file_name = path + dataset\n",
        "with zipfile.ZipFile(file_name, 'r') as zip:\n",
        "   #zip.printdir()\n",
        "   print('Extracting all the files now...') \n",
        "   zip.extractall(local_path) \n",
        "   print('Done!')"
      ],
      "execution_count": null,
      "outputs": []
    },
    {
      "cell_type": "markdown",
      "metadata": {
        "id": "NCp-pnotL8R0"
      },
      "source": [
        "Pull the latest version of stylegan2-ada from github, Use the right version of TF And make sure we can talk to the colab gpu\n"
      ]
    },
    {
      "cell_type": "code",
      "metadata": {
        "id": "PzDuIoMcqfBT"
      },
      "source": [
        "%tensorflow_version 1.x\n",
        "import tensorflow as tf\n",
        "\n",
        "# Download the code\n",
        "!git clone https://github.com/NVlabs/stylegan2-ada.git\n",
        "%cd stylegan2\n",
        "!nvcc test_nvcc.cu -o test_nvcc -run\n",
        "\n",
        "print('Tensorflow version: {}'.format(tf.__version__) )\n",
        "!nvidia-smi -L\n",
        "print('GPU Identified at: {}'.format(tf.test.gpu_device_name()))"
      ],
      "execution_count": null,
      "outputs": []
    },
    {
      "cell_type": "code",
      "metadata": {
        "id": "umKaTRK4dlL7"
      },
      "source": [
        "%cd .."
      ],
      "execution_count": null,
      "outputs": []
    },
    {
      "cell_type": "markdown",
      "metadata": {
        "id": "uAgPsEMjMVeE"
      },
      "source": [
        "I'm assuming you don't have any model you'd like to resume from. So we will pull one of the models from the stylegan2 ada paper. Specifically the 256x256 version of FFHQ. \n",
        "\n",
        "Major note - ALWAYS transfer learn when you can. Convergence is so much faster!!\n"
      ]
    },
    {
      "cell_type": "code",
      "metadata": {
        "id": "nNw6T-DZJjHq"
      },
      "source": [
        "!wget https://nvlabs-fi-cdn.nvidia.com/stylegan2-ada/pretrained/transfer-learning-source-nets/ffhq-res256-mirror-paper256-noaug.pkl"
      ],
      "execution_count": null,
      "outputs": []
    },
    {
      "cell_type": "markdown",
      "metadata": {
        "id": "H0W9Tyn2NBjG"
      },
      "source": [
        "Delete anything in our dataset that isn't actually an image\n"
      ]
    },
    {
      "cell_type": "code",
      "metadata": {
        "id": "pWMPNER11Z_A"
      },
      "source": [
        "import os\n",
        "from fastai.vision import verify_images\n",
        "verify_images(local_path, delete=True)"
      ],
      "execution_count": null,
      "outputs": []
    },
    {
      "cell_type": "code",
      "metadata": {
        "id": "EBbkV2Fq_CUy"
      },
      "source": [
        "from PIL import Image\n",
        "from tqdm import tqdm\n",
        "import os\n",
        "from os import mkdir\n",
        "import shutil"
      ],
      "execution_count": null,
      "outputs": []
    },
    {
      "cell_type": "code",
      "metadata": {
        "id": "rnu0I2dVke1o"
      },
      "source": [
        "for p in [\"datasets/\", 'datasets/custom']:\n",
        "  try:\n",
        "    os.mkdir(p)\n",
        "  except:\n",
        "    pass"
      ],
      "execution_count": null,
      "outputs": []
    },
    {
      "cell_type": "markdown",
      "metadata": {
        "id": "U4nNOUx6LbU8"
      },
      "source": [
        "The below cell creates a TF records file which stylegan2 ada needs to train successfully!"
      ]
    },
    {
      "cell_type": "code",
      "metadata": {
        "id": "Mrd-UJH5_pXK"
      },
      "source": [
        "%cd /content/stylegan2-ada/\n",
        "!python dataset_tool.py create_from_images /content/datasets/custom/ /content/my_data/"
      ],
      "execution_count": null,
      "outputs": []
    },
    {
      "cell_type": "code",
      "metadata": {
        "id": "VdnBhgrwblt3"
      },
      "source": [
        "%cd /content/stylegan2-ada/training"
      ],
      "execution_count": null,
      "outputs": []
    },
    {
      "cell_type": "markdown",
      "metadata": {
        "id": "BhwL9nVrLI-2"
      },
      "source": [
        "Some minor changes to the training loop. Mainly creating a checkpoint every 10,000 images. "
      ]
    },
    {
      "cell_type": "code",
      "metadata": {
        "id": "-F8bZxFECqpu"
      },
      "source": [
        "%%writefile training_loop.py\n",
        "﻿# Copyright (c) 2020, NVIDIA CORPORATION.  All rights reserved.\n",
        "#\n",
        "# NVIDIA CORPORATION and its licensors retain all intellectual property\n",
        "# and proprietary rights in and to this software, related documentation\n",
        "# and any modifications thereto.  Any use, reproduction, disclosure or\n",
        "# distribution of this software and related documentation without an express\n",
        "# license agreement from NVIDIA CORPORATION is strictly prohibited.\n",
        "\n",
        "\"\"\"Main training loop.\"\"\"\n",
        "\n",
        "import os\n",
        "import pickle\n",
        "import time\n",
        "import PIL.Image\n",
        "import numpy as np\n",
        "import tensorflow as tf\n",
        "import dnnlib\n",
        "import dnnlib.tflib as tflib\n",
        "from dnnlib.tflib.autosummary import autosummary\n",
        "\n",
        "from training import dataset\n",
        "\n",
        "#----------------------------------------------------------------------------\n",
        "# Select size and contents of the image snapshot grids that are exported\n",
        "# periodically during training.\n",
        "\n",
        "def setup_snapshot_image_grid(training_set):\n",
        "    gw = np.clip(7680 // training_set.shape[2], 7, 32)\n",
        "    gh = np.clip(4320 // training_set.shape[1], 4, 32)\n",
        "\n",
        "    # Unconditional.\n",
        "    if training_set.label_size == 0:\n",
        "        reals, labels = training_set.get_minibatch_np(gw * gh)\n",
        "        return (gw, gh), reals, labels\n",
        "\n",
        "    # Row per class.\n",
        "    cw, ch = (gw, 1)\n",
        "    nw = (gw - 1) // cw + 1\n",
        "    nh = (gh - 1) // ch + 1\n",
        "\n",
        "    # Collect images.\n",
        "    blocks = [[] for _i in range(nw * nh)]\n",
        "    for _iter in range(1000000):\n",
        "        real, label = training_set.get_minibatch_np(1)\n",
        "        idx = np.argmax(label[0])\n",
        "        while idx < len(blocks) and len(blocks[idx]) >= cw * ch:\n",
        "            idx += training_set.label_size\n",
        "        if idx < len(blocks):\n",
        "            blocks[idx].append((real, label))\n",
        "            if all(len(block) >= cw * ch for block in blocks):\n",
        "                break\n",
        "\n",
        "    # Layout grid.\n",
        "    reals = np.zeros([gw * gh] + training_set.shape, dtype=training_set.dtype)\n",
        "    labels = np.zeros([gw * gh, training_set.label_size], dtype=training_set.label_dtype)\n",
        "    for i, block in enumerate(blocks):\n",
        "        for j, (real, label) in enumerate(block):\n",
        "            x = (i %  nw) * cw + j %  cw\n",
        "            y = (i // nw) * ch + j // cw\n",
        "            if x < gw and y < gh:\n",
        "                reals[x + y * gw] = real[0]\n",
        "                labels[x + y * gw] = label[0]\n",
        "    return (gw, gh), reals, labels\n",
        "\n",
        "#----------------------------------------------------------------------------\n",
        "\n",
        "def save_image_grid(images, filename, drange, grid_size):\n",
        "    lo, hi = drange\n",
        "    gw, gh = grid_size\n",
        "    images = np.asarray(images, dtype=np.float32)\n",
        "    images = (images - lo) * (255 / (hi - lo))\n",
        "    images = np.rint(images).clip(0, 255).astype(np.uint8)\n",
        "    _N, C, H, W = images.shape\n",
        "    images = images.reshape(gh, gw, C, H, W)\n",
        "    images = images.transpose(0, 3, 1, 4, 2)\n",
        "    images = images.reshape(gh * H, gw * W, C)\n",
        "    PIL.Image.fromarray(images, {3: 'RGB', 1: 'L'}[C]).save(filename)\n",
        "\n",
        "#----------------------------------------------------------------------------\n",
        "# Main training script.\n",
        "\n",
        "def training_loop(\n",
        "    run_dir                 = '.',      # Output directory.\n",
        "    G_args                  = {},       # Options for generator network.\n",
        "    D_args                  = {},       # Options for discriminator network.\n",
        "    G_opt_args              = {},       # Options for generator optimizer.\n",
        "    D_opt_args              = {},       # Options for discriminator optimizer.\n",
        "    loss_args               = {},       # Options for loss function.\n",
        "    train_dataset_args      = {},       # Options for dataset to train with.\n",
        "    metric_dataset_args     = {},       # Options for dataset to evaluate metrics against.\n",
        "    augment_args            = {},       # Options for adaptive augmentations.\n",
        "    metric_arg_list         = [],       # Metrics to evaluate during training.\n",
        "    num_gpus                = 1,        # Number of GPUs to use.\n",
        "    minibatch_size          = 32,       # Global minibatch size.\n",
        "    minibatch_gpu           = 4,        # Number of samples processed at a time by one GPU.\n",
        "    G_smoothing_kimg        = 10,       # Half-life of the exponential moving average (EMA) of generator weights.\n",
        "    G_smoothing_rampup      = None,     # EMA ramp-up coefficient.\n",
        "    minibatch_repeats       = 4,        # Number of minibatches to run in the inner loop.\n",
        "    lazy_regularization     = True,     # Perform regularization as a separate training step?\n",
        "    G_reg_interval          = 4,        # How often the perform regularization for G? Ignored if lazy_regularization=False.\n",
        "    D_reg_interval          = 16,       # How often the perform regularization for D? Ignored if lazy_regularization=False.\n",
        "    total_kimg              = 25000,    # Total length of the training, measured in thousands of real images.\n",
        "    kimg_per_tick           = 10,        # Progress snapshot interval.\n",
        "    image_snapshot_ticks    = 1,       # How often to save image snapshots? None = only save 'reals.png' and 'fakes-init.png'.\n",
        "    network_snapshot_ticks  = 1,       # How often to save network snapshots? None = only save 'networks-final.pkl'.\n",
        "    resume_pkl              = None,     # Network pickle to resume training from, None = train from scratch.\n",
        "    resume_kimg             = 15000,      # Assumed training progress at the beginning. Affects reporting and training schedule.\n",
        "    resume_time             = 0.0,      # Assumed wallclock time at the beginning. Affects reporting.\n",
        "    abort_fn                = None,     # Callback function for determining whether to abort training.\n",
        "    progress_fn             = None,     # Callback function for updating training progress.\n",
        "):\n",
        "    assert minibatch_size % (num_gpus * minibatch_gpu) == 0\n",
        "    start_time = time.time()\n",
        "\n",
        "    print('Loading training set...')\n",
        "    training_set = dataset.load_dataset(**train_dataset_args)\n",
        "    print('Image shape:', np.int32(training_set.shape).tolist())\n",
        "    print('Label shape:', [training_set.label_size])\n",
        "    print()\n",
        "\n",
        "    print('Constructing networks...')\n",
        "    with tf.device('/gpu:0'):\n",
        "        G = tflib.Network('G', num_channels=training_set.shape[0], resolution=training_set.shape[1], label_size=training_set.label_size, **G_args)\n",
        "        D = tflib.Network('D', num_channels=training_set.shape[0], resolution=training_set.shape[1], label_size=training_set.label_size, **D_args)\n",
        "        Gs = G.clone('Gs')\n",
        "        if resume_pkl is not None:\n",
        "            print(f'Resuming from \"{resume_pkl}\"')\n",
        "            with dnnlib.util.open_url(resume_pkl) as f:\n",
        "                rG, rD, rGs = pickle.load(f)\n",
        "            G.copy_vars_from(rG)\n",
        "            D.copy_vars_from(rD)\n",
        "            Gs.copy_vars_from(rGs)\n",
        "    G.print_layers()\n",
        "    D.print_layers()\n",
        "\n",
        "    print('Exporting sample images...')\n",
        "    grid_size, grid_reals, grid_labels = setup_snapshot_image_grid(training_set)\n",
        "    save_image_grid(grid_reals, os.path.join(run_dir, 'reals.png'), drange=[0,255], grid_size=grid_size)\n",
        "    grid_latents = np.random.randn(np.prod(grid_size), *G.input_shape[1:])\n",
        "    grid_fakes = Gs.run(grid_latents, grid_labels, is_validation=True, minibatch_size=minibatch_gpu)\n",
        "    save_image_grid(grid_fakes, os.path.join(run_dir, 'fakes_init.png'), drange=[-1,1], grid_size=grid_size)\n",
        "\n",
        "    print(f'Replicating networks across {num_gpus} GPUs...')\n",
        "    G_gpus = [G]\n",
        "    D_gpus = [D]\n",
        "    for gpu in range(1, num_gpus):\n",
        "        with tf.device(f'/gpu:{gpu}'):\n",
        "            G_gpus.append(G.clone(f'{G.name}_gpu{gpu}'))\n",
        "            D_gpus.append(D.clone(f'{D.name}_gpu{gpu}'))\n",
        "\n",
        "    print('Initializing augmentations...')\n",
        "    aug = None\n",
        "    if augment_args.get('class_name', None) is not None:\n",
        "        aug = dnnlib.util.construct_class_by_name(**augment_args)\n",
        "        aug.init_validation_set(D_gpus=D_gpus, training_set=training_set)\n",
        "\n",
        "    print('Setting up optimizers...')\n",
        "    G_opt_args = dict(G_opt_args)\n",
        "    D_opt_args = dict(D_opt_args)\n",
        "    for args, reg_interval in [(G_opt_args, G_reg_interval), (D_opt_args, D_reg_interval)]:\n",
        "        args['minibatch_multiplier'] = minibatch_size // num_gpus // minibatch_gpu\n",
        "        if lazy_regularization:\n",
        "            mb_ratio = reg_interval / (reg_interval + 1)\n",
        "            args['learning_rate'] *= mb_ratio\n",
        "            if 'beta1' in args: args['beta1'] **= mb_ratio\n",
        "            if 'beta2' in args: args['beta2'] **= mb_ratio\n",
        "    G_opt = tflib.Optimizer(name='TrainG', **G_opt_args)\n",
        "    D_opt = tflib.Optimizer(name='TrainD', **D_opt_args)\n",
        "    G_reg_opt = tflib.Optimizer(name='RegG', share=G_opt, **G_opt_args)\n",
        "    D_reg_opt = tflib.Optimizer(name='RegD', share=D_opt, **D_opt_args)\n",
        "\n",
        "    print('Constructing training graph...')\n",
        "    data_fetch_ops = []\n",
        "    training_set.configure(minibatch_gpu)\n",
        "    for gpu, (G_gpu, D_gpu) in enumerate(zip(G_gpus, D_gpus)):\n",
        "        with tf.name_scope(f'Train_gpu{gpu}'), tf.device(f'/gpu:{gpu}'):\n",
        "\n",
        "            # Fetch training data via temporary variables.\n",
        "            with tf.name_scope('DataFetch'):\n",
        "                real_images_var = tf.Variable(name='images', trainable=False, initial_value=tf.zeros([minibatch_gpu] + training_set.shape))\n",
        "                real_labels_var = tf.Variable(name='labels', trainable=False, initial_value=tf.zeros([minibatch_gpu, training_set.label_size]))\n",
        "                real_images_write, real_labels_write = training_set.get_minibatch_tf()\n",
        "                real_images_write = tflib.convert_images_from_uint8(real_images_write)\n",
        "                data_fetch_ops += [tf.assign(real_images_var, real_images_write)]\n",
        "                data_fetch_ops += [tf.assign(real_labels_var, real_labels_write)]\n",
        "\n",
        "            # Evaluate loss function and register gradients.\n",
        "            fake_labels = training_set.get_random_labels_tf(minibatch_gpu)\n",
        "            terms = dnnlib.util.call_func_by_name(G=G_gpu, D=D_gpu, aug=aug, fake_labels=fake_labels, real_images=real_images_var, real_labels=real_labels_var, **loss_args)\n",
        "            if lazy_regularization:\n",
        "                if terms.G_reg is not None: G_reg_opt.register_gradients(tf.reduce_mean(terms.G_reg * G_reg_interval), G_gpu.trainables)\n",
        "                if terms.D_reg is not None: D_reg_opt.register_gradients(tf.reduce_mean(terms.D_reg * D_reg_interval), D_gpu.trainables)\n",
        "            else:\n",
        "                if terms.G_reg is not None: terms.G_loss += terms.G_reg\n",
        "                if terms.D_reg is not None: terms.D_loss += terms.D_reg\n",
        "            G_opt.register_gradients(tf.reduce_mean(terms.G_loss), G_gpu.trainables)\n",
        "            D_opt.register_gradients(tf.reduce_mean(terms.D_loss), D_gpu.trainables)\n",
        "\n",
        "    print('Finalizing training ops...')\n",
        "    data_fetch_op = tf.group(*data_fetch_ops)\n",
        "    G_train_op = G_opt.apply_updates()\n",
        "    D_train_op = D_opt.apply_updates()\n",
        "    G_reg_op = G_reg_opt.apply_updates(allow_no_op=True)\n",
        "    D_reg_op = D_reg_opt.apply_updates(allow_no_op=True)\n",
        "    Gs_beta_in = tf.placeholder(tf.float32, name='Gs_beta_in', shape=[])\n",
        "    Gs_update_op = Gs.setup_as_moving_average_of(G, beta=Gs_beta_in)\n",
        "    tflib.init_uninitialized_vars()\n",
        "    with tf.device('/gpu:0'):\n",
        "        peak_gpu_mem_op = tf.contrib.memory_stats.MaxBytesInUse()\n",
        "\n",
        "    print('Initializing metrics...')\n",
        "    summary_log = tf.summary.FileWriter(run_dir)\n",
        "    metrics = []\n",
        "    for args in metric_arg_list:\n",
        "        metric = dnnlib.util.construct_class_by_name(**args)\n",
        "        metric.configure(dataset_args=metric_dataset_args, run_dir=run_dir)\n",
        "        metrics.append(metric)\n",
        "\n",
        "    print(f'Training for {total_kimg} kimg...')\n",
        "    print()\n",
        "    if progress_fn is not None:\n",
        "        progress_fn(0, total_kimg)\n",
        "    tick_start_time = time.time()\n",
        "    maintenance_time = tick_start_time - start_time\n",
        "    cur_nimg = 0\n",
        "    cur_tick = -1\n",
        "    tick_start_nimg = cur_nimg\n",
        "    running_mb_counter = 0\n",
        "\n",
        "    done = False\n",
        "    while not done:\n",
        "\n",
        "        # Compute EMA decay parameter.\n",
        "        Gs_nimg = G_smoothing_kimg * 1000.0\n",
        "        if G_smoothing_rampup is not None:\n",
        "            Gs_nimg = min(Gs_nimg, cur_nimg * G_smoothing_rampup)\n",
        "        Gs_beta = 0.5 ** (minibatch_size / max(Gs_nimg, 1e-8))\n",
        "\n",
        "        # Run training ops.\n",
        "        for _repeat_idx in range(minibatch_repeats):\n",
        "            rounds = range(0, minibatch_size, minibatch_gpu * num_gpus)\n",
        "            run_G_reg = (lazy_regularization and running_mb_counter % G_reg_interval == 0)\n",
        "            run_D_reg = (lazy_regularization and running_mb_counter % D_reg_interval == 0)\n",
        "            cur_nimg += minibatch_size\n",
        "            running_mb_counter += 1\n",
        "\n",
        "            # Fast path without gradient accumulation.\n",
        "            if len(rounds) == 1:\n",
        "                tflib.run([G_train_op, data_fetch_op])\n",
        "                if run_G_reg:\n",
        "                    tflib.run(G_reg_op)\n",
        "                tflib.run([D_train_op, Gs_update_op], {Gs_beta_in: Gs_beta})\n",
        "                if run_D_reg:\n",
        "                    tflib.run(D_reg_op)\n",
        "\n",
        "            # Slow path with gradient accumulation.\n",
        "            else:\n",
        "                for _round in rounds:\n",
        "                    tflib.run(G_train_op)\n",
        "                    if run_G_reg:\n",
        "                        tflib.run(G_reg_op)\n",
        "                tflib.run(Gs_update_op, {Gs_beta_in: Gs_beta})\n",
        "                for _round in rounds:\n",
        "                    tflib.run(data_fetch_op)\n",
        "                    tflib.run(D_train_op)\n",
        "                    if run_D_reg:\n",
        "                        tflib.run(D_reg_op)\n",
        "\n",
        "            # Run validation.\n",
        "            if aug is not None:\n",
        "                aug.run_validation(minibatch_size=minibatch_size)\n",
        "\n",
        "        # Tune augmentation parameters.\n",
        "        if aug is not None:\n",
        "            aug.tune(minibatch_size * minibatch_repeats)\n",
        "\n",
        "        # Perform maintenance tasks once per tick.\n",
        "        done = (cur_nimg >= total_kimg * 1000) or (abort_fn is not None and abort_fn())\n",
        "        if done or cur_tick < 0 or cur_nimg >= tick_start_nimg + kimg_per_tick * 1000:\n",
        "            cur_tick += 1\n",
        "            tick_kimg = (cur_nimg - tick_start_nimg) / 1000.0\n",
        "            tick_start_nimg = cur_nimg\n",
        "            tick_end_time = time.time()\n",
        "            total_time = tick_end_time - start_time\n",
        "            tick_time = tick_end_time - tick_start_time\n",
        "\n",
        "            # Report progress.\n",
        "            print(' '.join([\n",
        "                f\"tick {autosummary('Progress/tick', cur_tick):<5d}\",\n",
        "                f\"kimg {autosummary('Progress/kimg', cur_nimg / 1000.0):<8.1f}\",\n",
        "                f\"time {dnnlib.util.format_time(autosummary('Timing/total_sec', total_time)):<12s}\",\n",
        "                f\"sec/tick {autosummary('Timing/sec_per_tick', tick_time):<7.1f}\",\n",
        "                f\"sec/kimg {autosummary('Timing/sec_per_kimg', tick_time / tick_kimg):<7.2f}\",\n",
        "                f\"maintenance {autosummary('Timing/maintenance_sec', maintenance_time):<6.1f}\",\n",
        "                f\"gpumem {autosummary('Resources/peak_gpu_mem_gb', peak_gpu_mem_op.eval() / 2**30):<5.1f}\",\n",
        "                f\"augment {autosummary('Progress/augment', aug.strength if aug is not None else 0):.3f}\",\n",
        "            ]))\n",
        "            autosummary('Timing/total_hours', total_time / (60.0 * 60.0))\n",
        "            autosummary('Timing/total_days', total_time / (24.0 * 60.0 * 60.0))\n",
        "            if progress_fn is not None:\n",
        "                progress_fn(cur_nimg // 1000, total_kimg)\n",
        "\n",
        "            # Save snapshots.\n",
        "            if image_snapshot_ticks is not None and (done or cur_tick % image_snapshot_ticks == 0):\n",
        "                grid_fakes = Gs.run(grid_latents, grid_labels, is_validation=True, minibatch_size=minibatch_gpu)\n",
        "                save_image_grid(grid_fakes, os.path.join(run_dir, f'fakes{cur_nimg // 1000:06d}.png'), drange=[-1,1], grid_size=grid_size)\n",
        "\n",
        "            if network_snapshot_ticks is not None and (done or cur_tick % network_snapshot_ticks == 0):\n",
        "                pkl = os.path.join(run_dir, f'network-snapshot-{cur_nimg // 1000:06d}.pkl')\n",
        "                with open(pkl, 'wb') as f:\n",
        "                    pickle.dump((G, D, Gs), f)\n",
        "                if len(metrics):\n",
        "                    print('Evaluating metrics...')\n",
        "                    for metric in metrics:\n",
        "                        metric.run(pkl, num_gpus=num_gpus)\n",
        "\n",
        "            # Update summaries.\n",
        "            for metric in metrics:\n",
        "                metric.update_autosummaries()\n",
        "            tflib.autosummary.save_summaries(summary_log, cur_nimg)\n",
        "            tick_start_time = time.time()\n",
        "            maintenance_time = tick_start_time - tick_end_time\n",
        "\n",
        "    print()\n",
        "    print('Exiting...')\n",
        "    summary_log.close()\n",
        "    training_set.close()"
      ],
      "execution_count": null,
      "outputs": []
    },
    {
      "cell_type": "code",
      "metadata": {
        "id": "H8qcPk0sPMln"
      },
      "source": [
        "%cd .."
      ],
      "execution_count": null,
      "outputs": []
    },
    {
      "cell_type": "markdown",
      "metadata": {
        "id": "WUES7ATGIWCI"
      },
      "source": [
        "## Start the training of the network.\n",
        "\n",
        "key things to change here:\n",
        "\n",
        "1) Outdir - if you want to save grids and weights to a different folder on your google drive.\n",
        "\n",
        "2) Resume - change this to your own pickle if you want to carry on trainning a model after a timeout\n",
        "\n",
        "3) Cfg - change this if you want to play with some of the other configs on offer. I'd recommend using the \"stylegan2\" config as this is close to the original experience + the benefits of augmentation :)\n",
        "\n",
        "do not change:\n",
        "\n",
        "1) Metrics - enabling metrics slows down training a ton! if you want to test models do it in a stand alone manner!"
      ]
    },
    {
      "cell_type": "code",
      "metadata": {
        "id": "rZuh8nQqHVRv"
      },
      "source": [
        "!python train.py --outdir=/content/drive/My Drive/Colab Notebooks/styleganada-results/ --gpus=1 --data=/content/datasets/custom/ --mirror=1 --metrics=None --cfg=stylegan2 --resume='ffhq-res256-mirror-paper256-noaug.pkl'"
      ],
      "execution_count": null,
      "outputs": []
    }
  ]
}